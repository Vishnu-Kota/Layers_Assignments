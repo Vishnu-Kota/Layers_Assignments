{
 "cells": [
  {
   "cell_type": "code",
   "execution_count": 1,
   "id": "d9119d1b",
   "metadata": {},
   "outputs": [
    {
     "name": "stdout",
     "output_type": "stream",
     "text": [
      "24\n",
      "Not Weird\n"
     ]
    }
   ],
   "source": [
    "import math\n",
    "import os\n",
    "import random\n",
    "import re\n",
    "import sys\n",
    "\n",
    "\n",
    "\n",
    "if __name__ == '__main__':\n",
    "    n = int(input().strip())\n",
    "    if n%2!=0:\n",
    "        print (\"Weird\")\n",
    "    elif n%2==0 and 2<=n<=5:\n",
    "        print(\"Not Weird\")\n",
    "    elif n%2==0 and 6<=n<=20:\n",
    "        print(\"Weird\")\n",
    "    elif n%2==0 and n>20:\n",
    "        print(\"Not Weird\")"
   ]
  },
  {
   "cell_type": "code",
   "execution_count": 2,
   "id": "e8efbbf6",
   "metadata": {},
   "outputs": [
    {
     "name": "stdout",
     "output_type": "stream",
     "text": [
      "3\n",
      "2\n",
      "5\n",
      "1\n",
      "6\n"
     ]
    }
   ],
   "source": [
    "if __name__ == '__main__':\n",
    "    a = int(input())\n",
    "    b = int(input())\n",
    "    print(a+b)\n",
    "    print(a-b)\n",
    "    print(a*b)"
   ]
  },
  {
   "cell_type": "code",
   "execution_count": 2,
   "id": "de0832fb",
   "metadata": {},
   "outputs": [
    {
     "name": "stdout",
     "output_type": "stream",
     "text": [
      "4\n",
      "3\n",
      "1\n",
      "1.3333333333333333\n"
     ]
    }
   ],
   "source": [
    "if __name__ == '__main__':\n",
    "    a = int(input())\n",
    "    b = int(input())\n",
    "    print(int(a/b))\n",
    "    print(float(a/b))"
   ]
  },
  {
   "cell_type": "code",
   "execution_count": 1,
   "id": "39ae5478",
   "metadata": {},
   "outputs": [
    {
     "name": "stdout",
     "output_type": "stream",
     "text": [
      "5\n",
      "0\n",
      "1\n",
      "4\n",
      "9\n",
      "16\n"
     ]
    }
   ],
   "source": [
    "if __name__ == '__main__':\n",
    "    n = int(input())\n",
    "    for i in range(n):\n",
    "        print(i**2)"
   ]
  },
  {
   "cell_type": "code",
   "execution_count": 3,
   "id": "443d6b99",
   "metadata": {},
   "outputs": [
    {
     "name": "stdout",
     "output_type": "stream",
     "text": [
      "2000\n",
      "True\n"
     ]
    }
   ],
   "source": [
    "def is_leap(year):\n",
    "    leap = False\n",
    "    \n",
    "    # Write your logic here\n",
    "    if year%4==0:\n",
    "        if year%100==0:\n",
    "            leap=False\n",
    "        else:\n",
    "            leap=True\n",
    "    if year%400==0:\n",
    "        leap=True\n",
    "    \n",
    "    return leap\n",
    "\n",
    "year = int(input())\n",
    "print(is_leap(year))"
   ]
  },
  {
   "cell_type": "code",
   "execution_count": 4,
   "id": "e8a0fd60",
   "metadata": {},
   "outputs": [
    {
     "name": "stdout",
     "output_type": "stream",
     "text": [
      "5\n",
      "12345"
     ]
    }
   ],
   "source": [
    "if __name__ == '__main__':\n",
    "    n = int(input())\n",
    "    for i in range(1,n+1):\n",
    "        print(i,end=\"\")"
   ]
  },
  {
   "cell_type": "code",
   "execution_count": 6,
   "id": "c8bc900a",
   "metadata": {},
   "outputs": [
    {
     "name": "stdout",
     "output_type": "stream",
     "text": [
      "2\n",
      "2\n",
      "2\n",
      "3\n",
      "[[0, 0, 0], [0, 0, 1], [0, 0, 2], [0, 1, 0], [0, 1, 1], [0, 2, 0], [0, 2, 2], [1, 0, 0], [1, 0, 1], [1, 1, 0], [1, 1, 2], [1, 2, 1], [1, 2, 2], [2, 0, 0], [2, 0, 2], [2, 1, 1], [2, 1, 2], [2, 2, 0], [2, 2, 1], [2, 2, 2]]\n"
     ]
    }
   ],
   "source": [
    "if __name__ == '__main__':\n",
    "    x = int(input())\n",
    "    y = int(input())\n",
    "    z = int(input())\n",
    "    n = int(input())\n",
    "    lst=[]\n",
    "    for i in range(x+1):\n",
    "        for j in range(y+1):\n",
    "            for k in range(z+1):\n",
    "                if(i+j+k)!=n:\n",
    "                    lst.append([i,j,k]) \n",
    "print(lst)"
   ]
  },
  {
   "cell_type": "code",
   "execution_count": 8,
   "id": "b5dbdb85",
   "metadata": {},
   "outputs": [
    {
     "name": "stdout",
     "output_type": "stream",
     "text": [
      "5\n",
      "2 3 6 6 5\n",
      "5\n"
     ]
    }
   ],
   "source": [
    "from collections import Counter\n",
    "if __name__ == '__main__':\n",
    "    n = int(input())\n",
    "    arr = map(int, input().split())\n",
    "    arr=list(arr)\n",
    "    count=Counter(arr)\n",
    "    count=dict(count)\n",
    "    k=list(count.keys())\n",
    "    maxi=max(k)\n",
    "    k.pop(k.index(maxi))\n",
    "    print(max(k))"
   ]
  },
  {
   "cell_type": "code",
   "execution_count": 9,
   "id": "e7971c6f",
   "metadata": {},
   "outputs": [
    {
     "name": "stdout",
     "output_type": "stream",
     "text": [
      "5\n",
      "Harry\n",
      "37.11\n",
      "Berry \n",
      "37.21\n",
      "Tina\n",
      "37.2\n",
      "Akaanksha\n",
      "41\n",
      "Helmeppo\n",
      "39\n",
      "Tina\n"
     ]
    }
   ],
   "source": [
    "from collections import Counter\n",
    "if __name__ == '__main__':\n",
    "    lst=[]\n",
    "    n=int(input())\n",
    "    for _ in range(n):\n",
    "        name = input()\n",
    "        score = float(input())\n",
    "        lst.append([name, score])\n",
    "    lst2=[]\n",
    "    for i in range(n):\n",
    "        lst2.append(lst[i][1])\n",
    "\n",
    "    count=Counter(lst2)\n",
    "    count=dict(count)\n",
    "\n",
    "    k=list(count.keys())\n",
    "    maxi=min(k)\n",
    "    k.pop(k.index(maxi))\n",
    "    maxi2=(min(k))\n",
    "    lst3=[]\n",
    "    for i in range(n):\n",
    "        if lst[i][1]==maxi2:\n",
    "            lst3.append(lst[i][0])\n",
    "    lst3.sort()\n",
    "    for each in lst3:\n",
    "        print (each)"
   ]
  },
  {
   "cell_type": "code",
   "execution_count": 10,
   "id": "537dd650",
   "metadata": {},
   "outputs": [
    {
     "name": "stdout",
     "output_type": "stream",
     "text": [
      "3\n",
      "K 57 68 72\n",
      "Y 45 67 78\n",
      "B 78 86 85\n",
      "Y\n",
      "63.33\n"
     ]
    }
   ],
   "source": [
    "if __name__ == '__main__':\n",
    "    n = int(input())\n",
    "    student_marks = {}\n",
    "    for _ in range(n):\n",
    "        name, *line = input().split()\n",
    "        scores = list(map(float, line))\n",
    "        student_marks[name] = scores\n",
    "    query_name = input()\n",
    "    marks=student_marks[query_name]\n",
    "    avrg=(marks[0]+marks[1]+marks[2])/3\n",
    "    print(f\"{avrg:.2f}\")"
   ]
  },
  {
   "cell_type": "code",
   "execution_count": 11,
   "id": "cec9e34c",
   "metadata": {},
   "outputs": [
    {
     "name": "stdout",
     "output_type": "stream",
     "text": [
      "5\n",
      "insert 1 2\n",
      "append 3\n",
      "print\n",
      "[2, 3]\n",
      "insert 1 1\n",
      "sort\n"
     ]
    }
   ],
   "source": [
    "if __name__ == '__main__':\n",
    "    lst=[]\n",
    "    N = int(input())\n",
    "    for i in range(N):\n",
    "        cmd=input()\n",
    "        if cmd[:6]=='insert':\n",
    "            lst.insert(int(cmd[7:9]), int(cmd[9:]))\n",
    "        elif cmd=='print':\n",
    "            print(lst)\n",
    "        elif cmd[:6]=='remove':\n",
    "            lst.remove(int(cmd[7:]))\n",
    "        elif cmd[:6]=='append':\n",
    "            lst.append(int(cmd[7:]))\n",
    "        elif cmd== 'sort':\n",
    "            lst.sort()\n",
    "        elif cmd=='pop':\n",
    "            lst.pop()\n",
    "        elif cmd=='reverse':\n",
    "            lst.reverse()"
   ]
  },
  {
   "cell_type": "code",
   "execution_count": null,
   "id": "6734c348",
   "metadata": {},
   "outputs": [],
   "source": []
  }
 ],
 "metadata": {
  "kernelspec": {
   "display_name": "Python 3 (ipykernel)",
   "language": "python",
   "name": "python3"
  },
  "language_info": {
   "codemirror_mode": {
    "name": "ipython",
    "version": 3
   },
   "file_extension": ".py",
   "mimetype": "text/x-python",
   "name": "python",
   "nbconvert_exporter": "python",
   "pygments_lexer": "ipython3",
   "version": "3.9.7"
  }
 },
 "nbformat": 4,
 "nbformat_minor": 5
}
